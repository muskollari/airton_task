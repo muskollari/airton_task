{
 "cells": [
  {
   "cell_type": "code",
   "id": "initial_id",
   "metadata": {
    "collapsed": true
   },
   "source": [
    "import pandas as pd\n",
    "from db_utils import get_engine"
   ],
   "outputs": [],
   "execution_count": null
  },
  {
   "metadata": {},
   "cell_type": "code",
   "source": "dataset_path = r\"C:\\Users\\User\\PycharmProjects\\lufthansa_task\\lufthansa_task\\cleaned_dataset\"",
   "id": "6951870e916181db",
   "outputs": [],
   "execution_count": null
  },
  {
   "metadata": {},
   "cell_type": "code",
   "source": [
    "customers = pd.read_csv(dataset_path + '/customers.csv')\n",
    "order_items = pd.read_csv(dataset_path +'/order_items.csv')\n",
    "order_payments = pd.read_csv(dataset_path +'/order_payments.csv')\n",
    "order_reviews = pd.read_csv(dataset_path +'/order_reviews.csv')\n",
    "orders = pd.read_csv(dataset_path +'/orders.csv')\n",
    "products = pd.read_csv(dataset_path +'/products.csv')\n",
    "sellers = pd.read_csv(dataset_path +'/sellers.csv')\n",
    "data = {'customers': customers,\n",
    "        'order_items': order_items, \n",
    "        'order_payments': order_payments,\n",
    "        'order_reviews': order_reviews,\n",
    "        'orders': orders,\n",
    "        'products': products,\n",
    "        'sellers': sellers}"
   ],
   "id": "2d11f57adde77c87",
   "outputs": [],
   "execution_count": null
  },
  {
   "metadata": {},
   "cell_type": "code",
   "source": "order_items.info()",
   "id": "178207786a1fcdab",
   "outputs": [],
   "execution_count": null
  },
  {
   "metadata": {},
   "cell_type": "markdown",
   "source": "Fact order items table.",
   "id": "8f8ce0bf09409712"
  },
  {
   "metadata": {},
   "cell_type": "code",
   "source": [
    "# Get the most important columns and also the calculated columns for the fact_order_items. Merge with orders to get the customer id we need for a query later.\n",
    "\n",
    "fact_order_items = order_items[['order_id', 'order_item_id', 'product_id', 'seller_id', 'price', 'freight_value',\n",
    "                                'total_price', 'delivery_time', 'total_payments_count', 'profit_margin']].merge(orders[['order_id', 'customer_id']], on='order_id', how='left')"
   ],
   "id": "3db47a6157578127",
   "outputs": [],
   "execution_count": null
  },
  {
   "metadata": {},
   "cell_type": "markdown",
   "source": "        Customers Dimension",
   "id": "57d5bf27152eef69"
  },
  {
   "metadata": {},
   "cell_type": "code",
   "source": [
    "# Get the dimension columns for customers table\n",
    "dim_customers = customers[['customer_id', 'customer_unique_id', 'customer_zip_code_prefix',\n",
    "                           'customer_city', 'customer_state']]"
   ],
   "id": "ca4d88e4e0998726",
   "outputs": [],
   "execution_count": null
  },
  {
   "metadata": {},
   "cell_type": "markdown",
   "source": "Product Dimension",
   "id": "a14343af91d0e5f3"
  },
  {
   "metadata": {},
   "cell_type": "code",
   "source": [
    "# Get the dimension columns for products table\n",
    "dim_products = products[['product_id', 'product_category_name',\n",
    "                         'product_photos_qty', 'product_weight_g', 'product_length_cm', 'product_height_cm',\n",
    "                         'product_width_cm']]"
   ],
   "id": "5e6427636b0fb82e",
   "outputs": [],
   "execution_count": null
  },
  {
   "metadata": {},
   "cell_type": "markdown",
   "source": "Sellers Dimension",
   "id": "858c8bf928dc1479"
  },
  {
   "metadata": {},
   "cell_type": "code",
   "source": [
    "# Get the dimension columns for sellers table\n",
    "dim_sellers = sellers[['seller_id', 'seller_zip_code_prefix', 'seller_city', 'seller_state']]"
   ],
   "id": "d7c62d1be3a1d479",
   "outputs": [],
   "execution_count": null
  },
  {
   "metadata": {},
   "cell_type": "markdown",
   "source": "Date Dimension",
   "id": "18fe2dc8c7a078ab"
  },
  {
   "metadata": {},
   "cell_type": "code",
   "source": [
    "# Use order_purchase_timestamp and also order_delivered_customer_date for the date table. \n",
    "# First we want to set the purchase and delivery to datetime.  \n",
    "orders['order_purchase_timestamp'] = pd.to_datetime(orders['order_purchase_timestamp'])\n",
    "orders['order_delivered_customer_date'] = pd.to_datetime(orders['order_delivered_customer_date'])\n",
    "dim_date = orders[['order_id', 'order_purchase_timestamp', 'order_delivered_customer_date']].copy()"
   ],
   "id": "b9508c5d20a185ff",
   "outputs": [],
   "execution_count": null
  },
  {
   "metadata": {},
   "cell_type": "code",
   "source": "engine = get_engine()",
   "id": "20a253d6b8720443",
   "outputs": [],
   "execution_count": null
  },
  {
   "metadata": {},
   "cell_type": "code",
   "source": [
    "# Fact Table\n",
    "fact_order_items.to_sql('fact_order_items', con=engine, if_exists='replace', index=False)\n",
    "\n",
    "# Dimension Tables\n",
    "dim_customers.to_sql('dim_customers', con=engine, if_exists='replace', index=False)\n",
    "dim_products.to_sql('dim_products', con=engine, if_exists='replace', index=False)\n",
    "dim_sellers.to_sql('dim_sellers', con=engine, if_exists='replace', index=False)\n",
    "dim_date.to_sql('dim_date', con=engine, if_exists='replace', index=False)"
   ],
   "id": "3671ec008bca986",
   "outputs": [],
   "execution_count": null
  }
 ],
 "metadata": {
  "kernelspec": {
   "display_name": "Python 3",
   "language": "python",
   "name": "python3"
  },
  "language_info": {
   "codemirror_mode": {
    "name": "ipython",
    "version": 2
   },
   "file_extension": ".py",
   "mimetype": "text/x-python",
   "name": "python",
   "nbconvert_exporter": "python",
   "pygments_lexer": "ipython2",
   "version": "2.7.6"
  }
 },
 "nbformat": 4,
 "nbformat_minor": 5
}
