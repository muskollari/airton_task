{
 "cells": [
  {
   "cell_type": "code",
   "id": "initial_id",
   "metadata": {
    "collapsed": true,
    "ExecuteTime": {
     "end_time": "2024-09-30T19:32:30.384917Z",
     "start_time": "2024-09-30T19:32:29.794023Z"
    }
   },
   "source": [
    "import pandas as pd\n",
    "from db_utils import get_engine"
   ],
   "outputs": [],
   "execution_count": 1
  },
  {
   "metadata": {
    "ExecuteTime": {
     "end_time": "2024-09-30T19:32:30.395282Z",
     "start_time": "2024-09-30T19:32:30.390940Z"
    }
   },
   "cell_type": "code",
   "source": "dataset_path = r\"C:\\Users\\User\\PycharmProjects\\lufthansa_task\\lufthansa_task\\cleaned_dataset\"",
   "id": "6951870e916181db",
   "outputs": [],
   "execution_count": 2
  },
  {
   "metadata": {
    "ExecuteTime": {
     "end_time": "2024-09-30T19:32:32.354739Z",
     "start_time": "2024-09-30T19:32:30.661811Z"
    }
   },
   "cell_type": "code",
   "source": [
    "customers = pd.read_csv(dataset_path + '/customers.csv')\n",
    "order_items = pd.read_csv(dataset_path +'/order_items.csv')\n",
    "order_payments = pd.read_csv(dataset_path +'/order_payments.csv')\n",
    "order_reviews = pd.read_csv(dataset_path +'/order_reviews.csv')\n",
    "orders = pd.read_csv(dataset_path +'/orders.csv')\n",
    "products = pd.read_csv(dataset_path +'/products.csv')\n",
    "sellers = pd.read_csv(dataset_path +'/sellers.csv')\n",
    "data = {'customers': customers,\n",
    "        'order_items': order_items, \n",
    "        'order_payments': order_payments,\n",
    "        'order_reviews': order_reviews,\n",
    "        'orders': orders,\n",
    "        'products': products,\n",
    "        'sellers': sellers}"
   ],
   "id": "2d11f57adde77c87",
   "outputs": [],
   "execution_count": 3
  },
  {
   "metadata": {
    "ExecuteTime": {
     "end_time": "2024-09-30T19:32:32.425525Z",
     "start_time": "2024-09-30T19:32:32.389997Z"
    }
   },
   "cell_type": "code",
   "source": "order_items.info()",
   "id": "178207786a1fcdab",
   "outputs": [
    {
     "name": "stdout",
     "output_type": "stream",
     "text": [
      "<class 'pandas.core.frame.DataFrame'>\n",
      "RangeIndex: 110189 entries, 0 to 110188\n",
      "Data columns (total 13 columns):\n",
      " #   Column                         Non-Null Count   Dtype  \n",
      "---  ------                         --------------   -----  \n",
      " 0   order_id                       110189 non-null  object \n",
      " 1   order_item_id                  110189 non-null  int64  \n",
      " 2   product_id                     110189 non-null  object \n",
      " 3   seller_id                      110189 non-null  object \n",
      " 4   shipping_limit_date            110189 non-null  object \n",
      " 5   price                          110189 non-null  float64\n",
      " 6   freight_value                  110189 non-null  float64\n",
      " 7   total_price                    110189 non-null  float64\n",
      " 8   order_purchase_timestamp       110189 non-null  object \n",
      " 9   order_delivered_customer_date  110189 non-null  object \n",
      " 10  delivery_time                  110189 non-null  int64  \n",
      " 11  total_payments_count           110186 non-null  float64\n",
      " 12  profit_margin                  110189 non-null  float64\n",
      "dtypes: float64(5), int64(2), object(6)\n",
      "memory usage: 10.9+ MB\n"
     ]
    }
   ],
   "execution_count": 4
  },
  {
   "metadata": {},
   "cell_type": "markdown",
   "source": "Fact order items table.",
   "id": "8f8ce0bf09409712"
  },
  {
   "metadata": {
    "ExecuteTime": {
     "end_time": "2024-09-30T19:32:32.550682Z",
     "start_time": "2024-09-30T19:32:32.461593Z"
    }
   },
   "cell_type": "code",
   "source": [
    "# Get the most important columns and also the calculated columns for the fact_order_items. Merge with orders to get the customer id we need for a query later.\n",
    "\n",
    "fact_order_items = order_items[['order_id', 'order_item_id', 'product_id', 'seller_id', 'price', 'freight_value',\n",
    "                                'total_price', 'delivery_time', 'total_payments_count', 'profit_margin']].merge(orders[['order_id', 'customer_id']], on='order_id', how='left')"
   ],
   "id": "3db47a6157578127",
   "outputs": [],
   "execution_count": 5
  },
  {
   "metadata": {},
   "cell_type": "markdown",
   "source": "        Customers Dimension",
   "id": "57d5bf27152eef69"
  },
  {
   "metadata": {
    "ExecuteTime": {
     "end_time": "2024-09-30T19:32:32.593624Z",
     "start_time": "2024-09-30T19:32:32.584174Z"
    }
   },
   "cell_type": "code",
   "source": [
    "# Get the dimension columns for customers table\n",
    "dim_customers = customers[['customer_id', 'customer_unique_id', 'customer_zip_code_prefix',\n",
    "                           'customer_city', 'customer_state']]"
   ],
   "id": "ca4d88e4e0998726",
   "outputs": [],
   "execution_count": 6
  },
  {
   "metadata": {},
   "cell_type": "markdown",
   "source": "Product Dimension",
   "id": "a14343af91d0e5f3"
  },
  {
   "metadata": {
    "ExecuteTime": {
     "end_time": "2024-09-30T19:32:32.635366Z",
     "start_time": "2024-09-30T19:32:32.627963Z"
    }
   },
   "cell_type": "code",
   "source": [
    "# Get the dimension columns for products table\n",
    "dim_products = products[['product_id', 'product_category_name',\n",
    "                         'product_photos_qty', 'product_weight_g', 'product_length_cm', 'product_height_cm',\n",
    "                         'product_width_cm']]"
   ],
   "id": "5e6427636b0fb82e",
   "outputs": [],
   "execution_count": 7
  },
  {
   "metadata": {},
   "cell_type": "markdown",
   "source": "Sellers Dimension",
   "id": "858c8bf928dc1479"
  },
  {
   "metadata": {
    "ExecuteTime": {
     "end_time": "2024-09-30T19:32:32.680092Z",
     "start_time": "2024-09-30T19:32:32.674697Z"
    }
   },
   "cell_type": "code",
   "source": [
    "# Get the dimension columns for sellers table\n",
    "dim_sellers = sellers[['seller_id', 'seller_zip_code_prefix', 'seller_city', 'seller_state']]"
   ],
   "id": "d7c62d1be3a1d479",
   "outputs": [],
   "execution_count": 8
  },
  {
   "metadata": {},
   "cell_type": "markdown",
   "source": "Date Dimension",
   "id": "18fe2dc8c7a078ab"
  },
  {
   "metadata": {
    "ExecuteTime": {
     "end_time": "2024-09-30T19:32:32.880098Z",
     "start_time": "2024-09-30T19:32:32.726920Z"
    }
   },
   "cell_type": "code",
   "source": [
    "# Use order_purchase_timestamp and also order_delivered_customer_date for the date table. \n",
    "# First we want to set the purchase and delivery to datetime.  \n",
    "orders['order_purchase_timestamp'] = pd.to_datetime(orders['order_purchase_timestamp'])\n",
    "orders['order_delivered_customer_date'] = pd.to_datetime(orders['order_delivered_customer_date'])\n",
    "dim_date = orders[['order_id', 'order_purchase_timestamp', 'order_delivered_customer_date']].copy()"
   ],
   "id": "b9508c5d20a185ff",
   "outputs": [],
   "execution_count": 9
  },
  {
   "metadata": {
    "ExecuteTime": {
     "end_time": "2024-09-30T19:32:32.948023Z",
     "start_time": "2024-09-30T19:32:32.923095Z"
    }
   },
   "cell_type": "code",
   "source": "engine = get_engine()",
   "id": "20a253d6b8720443",
   "outputs": [],
   "execution_count": 10
  },
  {
   "metadata": {
    "ExecuteTime": {
     "end_time": "2024-09-30T19:32:43.517016Z",
     "start_time": "2024-09-30T19:32:32.995187Z"
    }
   },
   "cell_type": "code",
   "source": [
    "# Fact Table\n",
    "fact_order_items.to_sql('fact_order_items', con=engine, if_exists='replace', index=False)\n",
    "\n",
    "# Dimension Tables\n",
    "dim_customers.to_sql('dim_customers', con=engine, if_exists='replace', index=False)\n",
    "dim_products.to_sql('dim_products', con=engine, if_exists='replace', index=False)\n",
    "dim_sellers.to_sql('dim_sellers', con=engine, if_exists='replace', index=False)\n",
    "dim_date.to_sql('dim_date', con=engine, if_exists='replace', index=False)"
   ],
   "id": "3671ec008bca986",
   "outputs": [
    {
     "data": {
      "text/plain": [
       "8"
      ]
     },
     "execution_count": 11,
     "metadata": {},
     "output_type": "execute_result"
    }
   ],
   "execution_count": 11
  }
 ],
 "metadata": {
  "kernelspec": {
   "display_name": "Python 3",
   "language": "python",
   "name": "python3"
  },
  "language_info": {
   "codemirror_mode": {
    "name": "ipython",
    "version": 2
   },
   "file_extension": ".py",
   "mimetype": "text/x-python",
   "name": "python",
   "nbconvert_exporter": "python",
   "pygments_lexer": "ipython2",
   "version": "2.7.6"
  }
 },
 "nbformat": 4,
 "nbformat_minor": 5
}
