{
 "cells": [
  {
   "cell_type": "code",
   "id": "initial_id",
   "metadata": {
    "collapsed": true,
    "ExecuteTime": {
     "end_time": "2024-09-30T17:10:00.260876Z",
     "start_time": "2024-09-30T17:10:00.256374Z"
    }
   },
   "source": "import pandas as pd\n",
   "outputs": [],
   "execution_count": 29
  },
  {
   "metadata": {
    "ExecuteTime": {
     "end_time": "2024-09-30T17:10:01.248419Z",
     "start_time": "2024-09-30T17:10:01.244166Z"
    }
   },
   "cell_type": "code",
   "source": "dataset_path = r\"C:\\Users\\User\\PycharmProjects\\lufthansa_task\\lufthansa_task\\cleaned_dataset\"\n",
   "id": "10a0f1fe4e1e6d55",
   "outputs": [],
   "execution_count": 30
  },
  {
   "metadata": {
    "ExecuteTime": {
     "end_time": "2024-09-30T17:10:04.113549Z",
     "start_time": "2024-09-30T17:10:02.395240Z"
    }
   },
   "cell_type": "code",
   "source": [
    "customers = pd.read_csv(dataset_path + '/customers.csv')\n",
    "order_items = pd.read_csv(dataset_path +'/order_items.csv')\n",
    "order_payments = pd.read_csv(dataset_path +'/order_payments.csv')\n",
    "order_reviews = pd.read_csv(dataset_path +'/order_reviews.csv')\n",
    "orders = pd.read_csv(dataset_path +'/orders.csv')\n",
    "products = pd.read_csv(dataset_path +'/products.csv')\n",
    "sellers = pd.read_csv(dataset_path +'/sellers.csv')\n",
    "data = {'customers': customers,\n",
    "        'order_items': order_items, \n",
    "        'order_payments': order_payments,\n",
    "        'order_reviews': order_reviews,\n",
    "        'orders': orders,\n",
    "        'products': products,\n",
    "        'sellers': sellers}"
   ],
   "id": "9bdee10bcd88eb57",
   "outputs": [],
   "execution_count": 31
  },
  {
   "metadata": {},
   "cell_type": "markdown",
   "source": "1. Total Sales per Customer: A running total of product price for each customer partitioned by Customer ID.",
   "id": "313beb10e2f9ded8"
  },
  {
   "metadata": {
    "ExecuteTime": {
     "end_time": "2024-09-30T15:57:38.455428Z",
     "start_time": "2024-09-30T15:57:38.256580Z"
    }
   },
   "cell_type": "code",
   "source": [
    "# Merge order_items with orders and customers to get the customer_id and customer_unique_id. \n",
    "order_items = order_items.merge(orders[['order_id', 'customer_id']], on='order_id', how='left')\n",
    "order_items = order_items.merge(customers[['customer_id', 'customer_unique_id']], on='customer_id', how='left')"
   ],
   "id": "f3575eef5f8e767",
   "outputs": [],
   "execution_count": 20
  },
  {
   "metadata": {
    "ExecuteTime": {
     "end_time": "2024-09-30T15:57:38.663691Z",
     "start_time": "2024-09-30T15:57:38.495894Z"
    }
   },
   "cell_type": "code",
   "source": [
    "# Get total sales per customer\n",
    "order_items['total_sales_per_customer'] = order_items.groupby('customer_unique_id')['price'].cumsum()\n",
    "order_items[['order_id', 'customer_unique_id', 'total_sales_per_customer']].head()\n"
   ],
   "id": "f4e534f98fb47539",
   "outputs": [
    {
     "data": {
      "text/plain": [
       "                           order_id                customer_unique_id  \\\n",
       "0  00010242fe8c5a6d1ba2dd792cb16214  871766c5855e863f6eccc05f988b23cb   \n",
       "1  00018f77f2f0320c557190d7a144bdd3  eb28e67c4c0b83846050ddfb8a35d051   \n",
       "2  000229ec398224ef6ca0657da4fc703e  3818d81c6709e39d06b2738a8d3a2474   \n",
       "3  00024acbcdf0a6daa1e931b038114c75  af861d436cfc08b2c2ddefd0ba074622   \n",
       "4  00042b26cf59d7ce69dfabb4e55b4fd9  64b576fb70d441e8f1b2d7d446e483c5   \n",
       "\n",
       "   total_sales_per_customer  \n",
       "0                     58.90  \n",
       "1                    239.90  \n",
       "2                    199.00  \n",
       "3                     12.99  \n",
       "4                    199.90  "
      ],
      "text/html": [
       "<div>\n",
       "<style scoped>\n",
       "    .dataframe tbody tr th:only-of-type {\n",
       "        vertical-align: middle;\n",
       "    }\n",
       "\n",
       "    .dataframe tbody tr th {\n",
       "        vertical-align: top;\n",
       "    }\n",
       "\n",
       "    .dataframe thead th {\n",
       "        text-align: right;\n",
       "    }\n",
       "</style>\n",
       "<table border=\"1\" class=\"dataframe\">\n",
       "  <thead>\n",
       "    <tr style=\"text-align: right;\">\n",
       "      <th></th>\n",
       "      <th>order_id</th>\n",
       "      <th>customer_unique_id</th>\n",
       "      <th>total_sales_per_customer</th>\n",
       "    </tr>\n",
       "  </thead>\n",
       "  <tbody>\n",
       "    <tr>\n",
       "      <th>0</th>\n",
       "      <td>00010242fe8c5a6d1ba2dd792cb16214</td>\n",
       "      <td>871766c5855e863f6eccc05f988b23cb</td>\n",
       "      <td>58.90</td>\n",
       "    </tr>\n",
       "    <tr>\n",
       "      <th>1</th>\n",
       "      <td>00018f77f2f0320c557190d7a144bdd3</td>\n",
       "      <td>eb28e67c4c0b83846050ddfb8a35d051</td>\n",
       "      <td>239.90</td>\n",
       "    </tr>\n",
       "    <tr>\n",
       "      <th>2</th>\n",
       "      <td>000229ec398224ef6ca0657da4fc703e</td>\n",
       "      <td>3818d81c6709e39d06b2738a8d3a2474</td>\n",
       "      <td>199.00</td>\n",
       "    </tr>\n",
       "    <tr>\n",
       "      <th>3</th>\n",
       "      <td>00024acbcdf0a6daa1e931b038114c75</td>\n",
       "      <td>af861d436cfc08b2c2ddefd0ba074622</td>\n",
       "      <td>12.99</td>\n",
       "    </tr>\n",
       "    <tr>\n",
       "      <th>4</th>\n",
       "      <td>00042b26cf59d7ce69dfabb4e55b4fd9</td>\n",
       "      <td>64b576fb70d441e8f1b2d7d446e483c5</td>\n",
       "      <td>199.90</td>\n",
       "    </tr>\n",
       "  </tbody>\n",
       "</table>\n",
       "</div>"
      ]
     },
     "execution_count": 21,
     "metadata": {},
     "output_type": "execute_result"
    }
   ],
   "execution_count": 21
  },
  {
   "metadata": {},
   "cell_type": "markdown",
   "source": "2. Average Delivery Time per Product Category: Rolling average delivery time by product category\n",
   "id": "420ba315d6a5ffa"
  },
  {
   "metadata": {
    "ExecuteTime": {
     "end_time": "2024-09-30T15:57:38.817937Z",
     "start_time": "2024-09-30T15:57:38.751704Z"
    }
   },
   "cell_type": "code",
   "source": "print(order_items.info())\n",
   "id": "39598422b8024411",
   "outputs": [
    {
     "name": "stdout",
     "output_type": "stream",
     "text": [
      "<class 'pandas.core.frame.DataFrame'>\n",
      "RangeIndex: 110189 entries, 0 to 110188\n",
      "Data columns (total 16 columns):\n",
      " #   Column                         Non-Null Count   Dtype  \n",
      "---  ------                         --------------   -----  \n",
      " 0   order_id                       110189 non-null  object \n",
      " 1   order_item_id                  110189 non-null  int64  \n",
      " 2   product_id                     110189 non-null  object \n",
      " 3   seller_id                      110189 non-null  object \n",
      " 4   shipping_limit_date            110189 non-null  object \n",
      " 5   price                          110189 non-null  float64\n",
      " 6   freight_value                  110189 non-null  float64\n",
      " 7   total_price                    110189 non-null  float64\n",
      " 8   order_purchase_timestamp       110189 non-null  object \n",
      " 9   order_delivered_customer_date  110189 non-null  object \n",
      " 10  delivery_time                  110189 non-null  int64  \n",
      " 11  total_payments_count           110186 non-null  float64\n",
      " 12  profit_margin                  110189 non-null  float64\n",
      " 13  customer_id                    110189 non-null  object \n",
      " 14  customer_unique_id             110189 non-null  object \n",
      " 15  total_sales_per_customer       110189 non-null  float64\n",
      "dtypes: float64(6), int64(2), object(8)\n",
      "memory usage: 13.5+ MB\n",
      "None\n"
     ]
    }
   ],
   "execution_count": 22
  },
  {
   "metadata": {
    "ExecuteTime": {
     "end_time": "2024-09-30T15:57:38.981439Z",
     "start_time": "2024-09-30T15:57:38.872678Z"
    }
   },
   "cell_type": "code",
   "source": [
    "# Merge order_items with products to get the product_category_name.\n",
    "order_items = order_items.merge(products[['product_id', 'product_category_name']], on='product_id', how='left')"
   ],
   "id": "ad47112057252435",
   "outputs": [],
   "execution_count": 23
  },
  {
   "metadata": {
    "ExecuteTime": {
     "end_time": "2024-09-30T15:57:39.226922Z",
     "start_time": "2024-09-30T15:57:38.989151Z"
    }
   },
   "cell_type": "code",
   "source": [
    "# Sort the values based on order_purchase_timestamp\n",
    "order_items = order_items.sort_values(by=['product_category_name', 'order_purchase_timestamp'])"
   ],
   "id": "5922fe23aa4925a6",
   "outputs": [],
   "execution_count": 24
  },
  {
   "metadata": {
    "ExecuteTime": {
     "end_time": "2024-09-30T15:57:39.344760Z",
     "start_time": "2024-09-30T15:57:39.271623Z"
    }
   },
   "cell_type": "code",
   "source": [
    "# Get the rolling average delivery time by product category\n",
    "order_items['rolling_avg_delivery_time'] = order_items.groupby('product_category_name')['delivery_time'].rolling(window=3, min_periods=1).mean().reset_index(level=0, drop=True)\n",
    "\n",
    "order_items[['product_category_name', 'delivery_time', 'rolling_avg_delivery_time']].head(100)"
   ],
   "id": "c95cb36da91c9fe1",
   "outputs": [
    {
     "data": {
      "text/plain": [
       "      product_category_name  delivery_time  rolling_avg_delivery_time\n",
       "4364                  Other             18                  18.000000\n",
       "77935                 Other             19                  18.500000\n",
       "82729                 Other              7                  14.666667\n",
       "42153                 Other             13                  13.000000\n",
       "14701                 Other              8                   9.333333\n",
       "...                     ...            ...                        ...\n",
       "87033                 Other             15                  14.000000\n",
       "48364                 Other              4                  11.333333\n",
       "96612                 Other             15                  11.333333\n",
       "28568                 Other             25                  14.666667\n",
       "28569                 Other             25                  21.666667\n",
       "\n",
       "[100 rows x 3 columns]"
      ],
      "text/html": [
       "<div>\n",
       "<style scoped>\n",
       "    .dataframe tbody tr th:only-of-type {\n",
       "        vertical-align: middle;\n",
       "    }\n",
       "\n",
       "    .dataframe tbody tr th {\n",
       "        vertical-align: top;\n",
       "    }\n",
       "\n",
       "    .dataframe thead th {\n",
       "        text-align: right;\n",
       "    }\n",
       "</style>\n",
       "<table border=\"1\" class=\"dataframe\">\n",
       "  <thead>\n",
       "    <tr style=\"text-align: right;\">\n",
       "      <th></th>\n",
       "      <th>product_category_name</th>\n",
       "      <th>delivery_time</th>\n",
       "      <th>rolling_avg_delivery_time</th>\n",
       "    </tr>\n",
       "  </thead>\n",
       "  <tbody>\n",
       "    <tr>\n",
       "      <th>4364</th>\n",
       "      <td>Other</td>\n",
       "      <td>18</td>\n",
       "      <td>18.000000</td>\n",
       "    </tr>\n",
       "    <tr>\n",
       "      <th>77935</th>\n",
       "      <td>Other</td>\n",
       "      <td>19</td>\n",
       "      <td>18.500000</td>\n",
       "    </tr>\n",
       "    <tr>\n",
       "      <th>82729</th>\n",
       "      <td>Other</td>\n",
       "      <td>7</td>\n",
       "      <td>14.666667</td>\n",
       "    </tr>\n",
       "    <tr>\n",
       "      <th>42153</th>\n",
       "      <td>Other</td>\n",
       "      <td>13</td>\n",
       "      <td>13.000000</td>\n",
       "    </tr>\n",
       "    <tr>\n",
       "      <th>14701</th>\n",
       "      <td>Other</td>\n",
       "      <td>8</td>\n",
       "      <td>9.333333</td>\n",
       "    </tr>\n",
       "    <tr>\n",
       "      <th>...</th>\n",
       "      <td>...</td>\n",
       "      <td>...</td>\n",
       "      <td>...</td>\n",
       "    </tr>\n",
       "    <tr>\n",
       "      <th>87033</th>\n",
       "      <td>Other</td>\n",
       "      <td>15</td>\n",
       "      <td>14.000000</td>\n",
       "    </tr>\n",
       "    <tr>\n",
       "      <th>48364</th>\n",
       "      <td>Other</td>\n",
       "      <td>4</td>\n",
       "      <td>11.333333</td>\n",
       "    </tr>\n",
       "    <tr>\n",
       "      <th>96612</th>\n",
       "      <td>Other</td>\n",
       "      <td>15</td>\n",
       "      <td>11.333333</td>\n",
       "    </tr>\n",
       "    <tr>\n",
       "      <th>28568</th>\n",
       "      <td>Other</td>\n",
       "      <td>25</td>\n",
       "      <td>14.666667</td>\n",
       "    </tr>\n",
       "    <tr>\n",
       "      <th>28569</th>\n",
       "      <td>Other</td>\n",
       "      <td>25</td>\n",
       "      <td>21.666667</td>\n",
       "    </tr>\n",
       "  </tbody>\n",
       "</table>\n",
       "<p>100 rows × 3 columns</p>\n",
       "</div>"
      ]
     },
     "execution_count": 25,
     "metadata": {},
     "output_type": "execute_result"
    }
   ],
   "execution_count": 25
  },
  {
   "metadata": {
    "ExecuteTime": {
     "end_time": "2024-09-30T15:57:41.530470Z",
     "start_time": "2024-09-30T15:57:39.426393Z"
    }
   },
   "cell_type": "code",
   "source": "order_items.to_csv(r\"C:\\Users\\User\\PycharmProjects\\lufthansa_task\\lufthansa_task\\cleaned_dataset\\order_items.csv\", index=False)",
   "id": "d5bbcb4ad9e230d0",
   "outputs": [],
   "execution_count": 26
  },
  {
   "metadata": {
    "ExecuteTime": {
     "end_time": "2024-09-30T15:57:41.591374Z",
     "start_time": "2024-09-30T15:57:41.574088Z"
    }
   },
   "cell_type": "code",
   "source": "order_items[['order_id', 'order_item_id', 'total_payments_count']].head(100)",
   "id": "7e184918d1639c84",
   "outputs": [
    {
     "data": {
      "text/plain": [
       "                               order_id  order_item_id  total_payments_count\n",
       "4364   0a0837a5eee9e7a9ce2b1fa831944d27              1                   1.0\n",
       "77935  b533dea24ada4dc5c1a9041d25d7c812              1                   1.0\n",
       "82729  c022b7da8ab7a4a04bd561c8f765a14a              1                   1.0\n",
       "42153  6219ece1f053a3ffa649340e87cd93d2              1                   3.0\n",
       "14701  22474d84064cd7eb4a907ba3fd8a6398              1                   4.0\n",
       "...                                 ...            ...                   ...\n",
       "87033  ca1533a4041a98501d0c3250c7dff345              2                   1.0\n",
       "48364  707109d106f57a298c6d726ff59fa324              1                  10.0\n",
       "96612  dffe3c3fdb38dd7ca56eb98408730378              1                   1.0\n",
       "28568  427be8c69327b86f12e65fb5fedfde5c              1                   1.0\n",
       "28569  427be8c69327b86f12e65fb5fedfde5c              2                   1.0\n",
       "\n",
       "[100 rows x 3 columns]"
      ],
      "text/html": [
       "<div>\n",
       "<style scoped>\n",
       "    .dataframe tbody tr th:only-of-type {\n",
       "        vertical-align: middle;\n",
       "    }\n",
       "\n",
       "    .dataframe tbody tr th {\n",
       "        vertical-align: top;\n",
       "    }\n",
       "\n",
       "    .dataframe thead th {\n",
       "        text-align: right;\n",
       "    }\n",
       "</style>\n",
       "<table border=\"1\" class=\"dataframe\">\n",
       "  <thead>\n",
       "    <tr style=\"text-align: right;\">\n",
       "      <th></th>\n",
       "      <th>order_id</th>\n",
       "      <th>order_item_id</th>\n",
       "      <th>total_payments_count</th>\n",
       "    </tr>\n",
       "  </thead>\n",
       "  <tbody>\n",
       "    <tr>\n",
       "      <th>4364</th>\n",
       "      <td>0a0837a5eee9e7a9ce2b1fa831944d27</td>\n",
       "      <td>1</td>\n",
       "      <td>1.0</td>\n",
       "    </tr>\n",
       "    <tr>\n",
       "      <th>77935</th>\n",
       "      <td>b533dea24ada4dc5c1a9041d25d7c812</td>\n",
       "      <td>1</td>\n",
       "      <td>1.0</td>\n",
       "    </tr>\n",
       "    <tr>\n",
       "      <th>82729</th>\n",
       "      <td>c022b7da8ab7a4a04bd561c8f765a14a</td>\n",
       "      <td>1</td>\n",
       "      <td>1.0</td>\n",
       "    </tr>\n",
       "    <tr>\n",
       "      <th>42153</th>\n",
       "      <td>6219ece1f053a3ffa649340e87cd93d2</td>\n",
       "      <td>1</td>\n",
       "      <td>3.0</td>\n",
       "    </tr>\n",
       "    <tr>\n",
       "      <th>14701</th>\n",
       "      <td>22474d84064cd7eb4a907ba3fd8a6398</td>\n",
       "      <td>1</td>\n",
       "      <td>4.0</td>\n",
       "    </tr>\n",
       "    <tr>\n",
       "      <th>...</th>\n",
       "      <td>...</td>\n",
       "      <td>...</td>\n",
       "      <td>...</td>\n",
       "    </tr>\n",
       "    <tr>\n",
       "      <th>87033</th>\n",
       "      <td>ca1533a4041a98501d0c3250c7dff345</td>\n",
       "      <td>2</td>\n",
       "      <td>1.0</td>\n",
       "    </tr>\n",
       "    <tr>\n",
       "      <th>48364</th>\n",
       "      <td>707109d106f57a298c6d726ff59fa324</td>\n",
       "      <td>1</td>\n",
       "      <td>10.0</td>\n",
       "    </tr>\n",
       "    <tr>\n",
       "      <th>96612</th>\n",
       "      <td>dffe3c3fdb38dd7ca56eb98408730378</td>\n",
       "      <td>1</td>\n",
       "      <td>1.0</td>\n",
       "    </tr>\n",
       "    <tr>\n",
       "      <th>28568</th>\n",
       "      <td>427be8c69327b86f12e65fb5fedfde5c</td>\n",
       "      <td>1</td>\n",
       "      <td>1.0</td>\n",
       "    </tr>\n",
       "    <tr>\n",
       "      <th>28569</th>\n",
       "      <td>427be8c69327b86f12e65fb5fedfde5c</td>\n",
       "      <td>2</td>\n",
       "      <td>1.0</td>\n",
       "    </tr>\n",
       "  </tbody>\n",
       "</table>\n",
       "<p>100 rows × 3 columns</p>\n",
       "</div>"
      ]
     },
     "execution_count": 27,
     "metadata": {},
     "output_type": "execute_result"
    }
   ],
   "execution_count": 27
  }
 ],
 "metadata": {
  "kernelspec": {
   "display_name": "Python 3",
   "language": "python",
   "name": "python3"
  },
  "language_info": {
   "codemirror_mode": {
    "name": "ipython",
    "version": 2
   },
   "file_extension": ".py",
   "mimetype": "text/x-python",
   "name": "python",
   "nbconvert_exporter": "python",
   "pygments_lexer": "ipython2",
   "version": "2.7.6"
  }
 },
 "nbformat": 4,
 "nbformat_minor": 5
}
