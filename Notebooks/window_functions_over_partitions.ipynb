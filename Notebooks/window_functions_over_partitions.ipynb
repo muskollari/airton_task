{
 "cells": [
  {
   "cell_type": "code",
   "id": "initial_id",
   "metadata": {
    "collapsed": true
   },
   "source": "import pandas as pd\n",
   "outputs": [],
   "execution_count": null
  },
  {
   "metadata": {},
   "cell_type": "code",
   "source": "dataset_path = r\"C:\\Users\\User\\PycharmProjects\\lufthansa_task\\lufthansa_task\\cleaned_dataset\"\n",
   "id": "10a0f1fe4e1e6d55",
   "outputs": [],
   "execution_count": null
  },
  {
   "metadata": {},
   "cell_type": "code",
   "source": [
    "customers = pd.read_csv(dataset_path + '/customers.csv')\n",
    "order_items = pd.read_csv(dataset_path +'/order_items.csv')\n",
    "order_payments = pd.read_csv(dataset_path +'/order_payments.csv')\n",
    "order_reviews = pd.read_csv(dataset_path +'/order_reviews.csv')\n",
    "orders = pd.read_csv(dataset_path +'/orders.csv')\n",
    "products = pd.read_csv(dataset_path +'/products.csv')\n",
    "sellers = pd.read_csv(dataset_path +'/sellers.csv')\n",
    "data = {'customers': customers,\n",
    "        'order_items': order_items, \n",
    "        'order_payments': order_payments,\n",
    "        'order_reviews': order_reviews,\n",
    "        'orders': orders,\n",
    "        'products': products,\n",
    "        'sellers': sellers}"
   ],
   "id": "9bdee10bcd88eb57",
   "outputs": [],
   "execution_count": null
  },
  {
   "metadata": {},
   "cell_type": "markdown",
   "source": "1. Total Sales per Customer: A running total of product price for each customer partitioned by Customer ID.",
   "id": "313beb10e2f9ded8"
  },
  {
   "metadata": {},
   "cell_type": "code",
   "source": [
    "# Merge order_items with orders and customers to get the customer_id and customer_unique_id. \n",
    "order_items = order_items.merge(orders[['order_id', 'customer_id']], on='order_id', how='left')\n",
    "order_items = order_items.merge(customers[['customer_id', 'customer_unique_id']], on='customer_id', how='left')"
   ],
   "id": "f3575eef5f8e767",
   "outputs": [],
   "execution_count": null
  },
  {
   "metadata": {},
   "cell_type": "code",
   "source": [
    "# Get total sales per customer\n",
    "order_items['total_sales_per_customer'] = order_items.groupby('customer_unique_id')['price'].cumsum()\n",
    "order_items[['order_id', 'customer_unique_id', 'total_sales_per_customer']].head()\n"
   ],
   "id": "f4e534f98fb47539",
   "outputs": [],
   "execution_count": null
  },
  {
   "metadata": {},
   "cell_type": "markdown",
   "source": "2. Average Delivery Time per Product Category: Rolling average delivery time by product category\n",
   "id": "420ba315d6a5ffa"
  },
  {
   "metadata": {},
   "cell_type": "code",
   "source": "print(order_items.info())\n",
   "id": "39598422b8024411",
   "outputs": [],
   "execution_count": null
  },
  {
   "metadata": {},
   "cell_type": "code",
   "source": [
    "# Merge order_items with products to get the product_category_name.\n",
    "order_items = order_items.merge(products[['product_id', 'product_category_name']], on='product_id', how='left')"
   ],
   "id": "ad47112057252435",
   "outputs": [],
   "execution_count": null
  },
  {
   "metadata": {},
   "cell_type": "code",
   "source": [
    "# Sort the values based on order_purchase_timestamp\n",
    "order_items = order_items.sort_values(by=['product_category_name', 'order_purchase_timestamp'])"
   ],
   "id": "5922fe23aa4925a6",
   "outputs": [],
   "execution_count": null
  },
  {
   "metadata": {},
   "cell_type": "code",
   "source": [
    "# Get the rolling average delivery time by product category\n",
    "order_items['rolling_avg_delivery_time'] = order_items.groupby('product_category_name')['delivery_time'].rolling(window=3, min_periods=1).mean().reset_index(level=0, drop=True)\n",
    "\n",
    "order_items[['product_category_name', 'delivery_time', 'rolling_avg_delivery_time']].head(100)"
   ],
   "id": "c95cb36da91c9fe1",
   "outputs": [],
   "execution_count": null
  },
  {
   "metadata": {},
   "cell_type": "code",
   "source": "order_items.to_csv(r\"C:\\Users\\User\\PycharmProjects\\lufthansa_task\\lufthansa_task\\cleaned_dataset\\order_items.csv\", index=False)",
   "id": "d5bbcb4ad9e230d0",
   "outputs": [],
   "execution_count": null
  },
  {
   "metadata": {},
   "cell_type": "code",
   "source": "order_items[['order_id', 'order_item_id', 'total_payments_count']].head(10)",
   "id": "7e184918d1639c84",
   "outputs": [],
   "execution_count": null
  }
 ],
 "metadata": {
  "kernelspec": {
   "display_name": "Python 3",
   "language": "python",
   "name": "python3"
  },
  "language_info": {
   "codemirror_mode": {
    "name": "ipython",
    "version": 2
   },
   "file_extension": ".py",
   "mimetype": "text/x-python",
   "name": "python",
   "nbconvert_exporter": "python",
   "pygments_lexer": "ipython2",
   "version": "2.7.6"
  }
 },
 "nbformat": 4,
 "nbformat_minor": 5
}
