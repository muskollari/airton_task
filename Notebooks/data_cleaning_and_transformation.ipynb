{
 "cells": [
  {
   "cell_type": "code",
   "id": "initial_id",
   "metadata": {},
   "source": [
    "import pandas as pd\n",
    "import os"
   ],
   "outputs": [],
   "execution_count": null
  },
  {
   "cell_type": "code",
   "id": "927cdaee4eef793f",
   "metadata": {},
   "source": [
    "dataset_path = r\"C:\\Users\\User\\PycharmProjects\\lufthansa_task\\lufthansa_task\\dataset\""
   ],
   "outputs": [],
   "execution_count": null
  },
  {
   "cell_type": "markdown",
   "id": "3c17523df8993906",
   "metadata": {},
   "source": []
  },
  {
   "cell_type": "code",
   "id": "54d77c1a-6527-4cb7-90d1-6d73ca968ff2",
   "metadata": {
    "scrolled": true
   },
   "source": [
    "# Import datasets\n",
    "customers = pd.read_csv(dataset_path + '/olist_customers_dataset.csv')\n",
    "order_items = pd.read_csv(dataset_path +'/olist_order_items_dataset.csv')\n",
    "order_payments = pd.read_csv(dataset_path +'/olist_order_payments_dataset.csv')\n",
    "order_reviews = pd.read_csv(dataset_path +'/olist_order_reviews_dataset.csv')\n",
    "orders = pd.read_csv(dataset_path +'/olist_orders_dataset.csv')\n",
    "products = pd.read_csv(dataset_path +'/olist_products_dataset.csv')\n",
    "sellers = pd.read_csv(dataset_path +'/olist_sellers_dataset.csv')\n",
    "\n",
    "data = {'customers': customers,\n",
    "        'order_items': order_items, \n",
    "        'order_payments': order_payments,\n",
    "        'order_reviews': order_reviews,\n",
    "        'orders': orders,\n",
    "        'products': products,\n",
    "        'sellers': sellers}"
   ],
   "outputs": [],
   "execution_count": null
  },
  {
   "cell_type": "markdown",
   "id": "ba6860277c076608",
   "metadata": {},
   "source": [
    "Cleaning Orders dataset"
   ]
  },
  {
   "cell_type": "code",
   "id": "31c27fbbbafc6509",
   "metadata": {},
   "source": [
    "# First let's check the order statuses\n",
    "orders['order_status'].value_counts()\n"
   ],
   "outputs": [],
   "execution_count": null
  },
  {
   "cell_type": "code",
   "id": "11fa8134a532b2f1",
   "metadata": {},
   "source": [
    "# Now I will get all order_id where the order status is not delivered\n",
    "non_delivered_orders = orders['order_id'][orders['order_status'] != 'delivered'].values\n",
    "\n",
    "# Now we will drop these order_id in other dataframes where the order_id column is a foreign key. \n",
    "for key, value in data.items():\n",
    "    if 'order_id' in value.columns:\n",
    "        value.drop(value.loc[value['order_id'].isin(non_delivered_orders)].index, inplace = True)"
   ],
   "outputs": [],
   "execution_count": null
  },
  {
   "cell_type": "code",
   "id": "edd45e1b-565b-471e-aef0-0e882615e8a6",
   "metadata": {
    "scrolled": true
   },
   "source": [
    "# Now lets see how many empty rows we have for the order_delivered_customer_date we have. \n",
    "orders['order_delivered_customer_date'].isnull().sum()\n",
    "# Shows count of missing values per column"
   ],
   "outputs": [],
   "execution_count": null
  },
  {
   "cell_type": "code",
   "id": "8e99b0d7-49da-4544-b723-96481499dd15",
   "metadata": {
    "scrolled": true
   },
   "source": [
    "# Since there are only 8 rows, lets drop them. \n",
    "null_delivery_date = orders['order_id'][orders['order_delivered_customer_date'].isnull()].values\n",
    "# now filter every other dataframe where order_id is a foreign key\n",
    "for key, value in data.items():\n",
    "    if 'order_id' in value.columns:\n",
    "        value.drop(value.loc[value['order_id'].isin(null_delivery_date)].index, inplace = True)"
   ],
   "outputs": [],
   "execution_count": null
  },
  {
   "cell_type": "code",
   "id": "e3ca0ae811ec7c9",
   "metadata": {},
   "source": [
    "# Let's check again \n",
    "orders['order_delivered_customer_date'].isnull().sum()\n",
    "\n"
   ],
   "outputs": [],
   "execution_count": null
  },
  {
   "cell_type": "markdown",
   "id": "11be252723cfd29c",
   "metadata": {},
   "source": [
    "Clean Order Items dataset"
   ]
  },
  {
   "cell_type": "code",
   "id": "3808be52-909e-4a11-b874-3f1242bb3844",
   "metadata": {},
   "source": [
    "# Remove missing values\n",
    "order_items.dropna(how='all')"
   ],
   "outputs": [],
   "execution_count": null
  },
  {
   "cell_type": "code",
   "id": "c3dcdbc1-4237-4ac3-96de-5fdce4ba5e59",
   "metadata": {},
   "source": [
    "# Drop duplicates\n",
    "order_items.drop_duplicates()"
   ],
   "outputs": [],
   "execution_count": null
  },
  {
   "cell_type": "code",
   "id": "8f2c7f3dabfcf8e8",
   "metadata": {},
   "source": [
    "# Get information for order_items dataset. It does not contain any null values. \n",
    "order_items.isnull().sum()\n"
   ],
   "outputs": [],
   "execution_count": null
  },
  {
   "cell_type": "markdown",
   "id": "a92d33858b9451a2",
   "metadata": {},
   "source": [
    "Clean Order Payments dataset"
   ]
  },
  {
   "cell_type": "code",
   "id": "524e90182327360e",
   "metadata": {},
   "source": [
    "# Remove missing values\n",
    "order_payments.dropna(how='all')"
   ],
   "outputs": [],
   "execution_count": null
  },
  {
   "cell_type": "code",
   "id": "bff954ce854bacb8",
   "metadata": {},
   "source": [
    "# Drop duplicates\n",
    "order_payments.drop_duplicates()"
   ],
   "outputs": [],
   "execution_count": null
  },
  {
   "cell_type": "code",
   "id": "513c375553d76606",
   "metadata": {},
   "source": [
    "# Get information for order_payments dataset\n",
    "order_payments.isnull().sum()"
   ],
   "outputs": [],
   "execution_count": null
  },
  {
   "cell_type": "markdown",
   "id": "ea2e21c5d0878b64",
   "metadata": {},
   "source": [
    "Clean Order Reviews"
   ]
  },
  {
   "cell_type": "code",
   "id": "b9584cf6af6c1185",
   "metadata": {},
   "source": [
    "# remove missing values\n",
    "order_reviews.dropna(how='all')"
   ],
   "outputs": [],
   "execution_count": null
  },
  {
   "cell_type": "code",
   "id": "6f49c317604f78f3",
   "metadata": {},
   "source": [
    "# drop duplicates\n",
    "order_reviews.drop_duplicates()"
   ],
   "outputs": [],
   "execution_count": null
  },
  {
   "cell_type": "code",
   "id": "1741f47766a9596c",
   "metadata": {},
   "source": [
    "# get information for order_reviews dataset\n",
    "order_reviews.isnull().sum()"
   ],
   "outputs": [],
   "execution_count": null
  },
  {
   "cell_type": "code",
   "id": "8bb31f6ea0fe37e2",
   "metadata": {},
   "source": [
    "# Fill missing comment titles and comment messages\n",
    "order_reviews['review_comment_title'] = order_reviews['review_comment_title'].fillna('No Title')\n",
    "order_reviews['review_comment_message'] = order_reviews['review_comment_message'].fillna('No Comment')"
   ],
   "outputs": [],
   "execution_count": null
  },
  {
   "cell_type": "code",
   "id": "e6c9b0c538c1ef28",
   "metadata": {},
   "source": [
    "# Let check again\n",
    "order_reviews.isnull().sum()\n"
   ],
   "outputs": [],
   "execution_count": null
  },
  {
   "cell_type": "markdown",
   "id": "5f12f927c5b93f5f",
   "metadata": {},
   "source": [
    "Clean Sellers Dataset"
   ]
  },
  {
   "cell_type": "code",
   "id": "c85e3382b26bf4e0",
   "metadata": {},
   "source": [
    "# Remove missing values rows\n",
    "sellers.dropna(how='all')"
   ],
   "outputs": [],
   "execution_count": null
  },
  {
   "cell_type": "code",
   "id": "2b35a3359aaba835",
   "metadata": {},
   "source": [
    "# Remove duplicates\n",
    "sellers.drop_duplicates()"
   ],
   "outputs": [],
   "execution_count": null
  },
  {
   "cell_type": "code",
   "id": "cb8d96149f20376f",
   "metadata": {},
   "source": [
    "# Sellers dataset does not contain any null values\n",
    "sellers.isnull().sum()"
   ],
   "outputs": [],
   "execution_count": null
  },
  {
   "cell_type": "markdown",
   "id": "4e964c627bff8c37",
   "metadata": {},
   "source": [
    "Clean Products dataset"
   ]
  },
  {
   "cell_type": "code",
   "id": "64cb0dd299ae41ee",
   "metadata": {},
   "source": [
    "# Let's drop the name_length and description_length columns. They don't seem important\n",
    "products.drop(['product_name_lenght'], axis= 1, inplace= True)\n",
    "products.drop(['product_description_lenght'], axis= 1, inplace= True)"
   ],
   "outputs": [],
   "execution_count": null
  },
  {
   "cell_type": "code",
   "id": "a93a733710416201",
   "metadata": {},
   "source": [
    "# Remove missing values rows\n",
    "products.dropna(how='all')"
   ],
   "outputs": [],
   "execution_count": null
  },
  {
   "cell_type": "code",
   "id": "588a468907b8325e",
   "metadata": {},
   "source": [
    "# Remove duplicates\n",
    "products.drop_duplicates()"
   ],
   "outputs": [],
   "execution_count": null
  },
  {
   "cell_type": "code",
   "id": "f0a83b6479b560c6",
   "metadata": {},
   "source": [
    "# Get information for products dataset\n",
    "products.isnull().sum()"
   ],
   "outputs": [],
   "execution_count": null
  },
  {
   "cell_type": "code",
   "id": "1da63976a7f208c6",
   "metadata": {},
   "source": [
    "# Let's fill the NaN in category_name column name with something like 'Other'. \n",
    "products['product_category_name'] = products['product_category_name'].fillna('Other')"
   ],
   "outputs": [],
   "execution_count": null
  },
  {
   "cell_type": "code",
   "id": "f83d0c6140849f9e",
   "metadata": {},
   "source": [
    "# Let's replace the nulls with 0 for photos_qty\n",
    "products['product_photos_qty'] = products['product_photos_qty'].fillna(value=0)"
   ],
   "outputs": [],
   "execution_count": null
  },
  {
   "cell_type": "markdown",
   "id": "d4643b3ba008cc9c",
   "metadata": {},
   "source": [
    "Clean Customers dataset"
   ]
  },
  {
   "cell_type": "code",
   "id": "df014ef1-0ebc-4fe2-a4a1-af6f9358fd87",
   "metadata": {},
   "source": [
    "# Remove missing values\n",
    "customers.dropna(how='all')"
   ],
   "outputs": [],
   "execution_count": null
  },
  {
   "cell_type": "code",
   "id": "ede4f6b1-85fe-4ac3-9d4a-275bffa53c70",
   "metadata": {},
   "source": [
    "# Drop duplicates\n",
    "customers.drop_duplicates()"
   ],
   "outputs": [],
   "execution_count": null
  },
  {
   "cell_type": "code",
   "id": "cbc6aba4-ac4a-41b8-83b9-d88027b3df79",
   "metadata": {},
   "source": [
    "# Customer dataset does not contain any null values\n",
    "customers.isnull().sum()"
   ],
   "outputs": [],
   "execution_count": null
  },
  {
   "cell_type": "code",
   "id": "aaf56d4e10e773b2",
   "metadata": {},
   "source": [
    "# Save the cleaned datasets\n",
    "\n",
    "output_path = r\"C:\\Users\\User\\PycharmProjects\\lufthansa_task\\lufthansa_task\\cleaned_dataset\"\n",
    "# Create the directory if it doesn't exist\n",
    "os.makedirs(output_path, exist_ok=True)\n",
    "\n",
    "# Save the cleaned datasets\n",
    "for name, df in data.items():\n",
    "    output_file = os.path.join(output_path, f'{name}.csv')  # Create the output file path\n",
    "    df.to_csv(output_file, index=False)"
   ],
   "outputs": [],
   "execution_count": null
  },
  {
   "cell_type": "code",
   "id": "825b5942c58afecc",
   "metadata": {},
   "source": [],
   "outputs": [],
   "execution_count": null
  }
 ],
 "metadata": {
  "kernelspec": {
   "display_name": "Python 3 (ipykernel)",
   "language": "python",
   "name": "python3"
  },
  "language_info": {
   "codemirror_mode": {
    "name": "ipython",
    "version": 3
   },
   "file_extension": ".py",
   "mimetype": "text/x-python",
   "name": "python",
   "nbconvert_exporter": "python",
   "pygments_lexer": "ipython3",
   "version": "3.11.6"
  }
 },
 "nbformat": 4,
 "nbformat_minor": 5
}
