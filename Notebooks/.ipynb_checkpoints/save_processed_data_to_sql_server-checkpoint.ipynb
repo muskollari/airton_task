{
 "cells": [
  {
   "cell_type": "code",
   "id": "initial_id",
   "metadata": {
    "collapsed": true,
    "ExecuteTime": {
     "end_time": "2024-09-30T16:00:00.514860Z",
     "start_time": "2024-09-30T15:59:59.740030Z"
    }
   },
   "source": [
    "import pandas as pd\n",
    "from db_utils import get_engine"
   ],
   "outputs": [],
   "execution_count": 2
  },
  {
   "metadata": {
    "ExecuteTime": {
     "end_time": "2024-09-30T16:00:00.523087Z",
     "start_time": "2024-09-30T16:00:00.518865Z"
    }
   },
   "cell_type": "code",
   "source": "dataset_path = r\"C:\\Users\\User\\PycharmProjects\\lufthansa_task\\lufthansa_task\\cleaned_dataset\"",
   "id": "6951870e916181db",
   "outputs": [],
   "execution_count": 3
  },
  {
   "metadata": {
    "ExecuteTime": {
     "end_time": "2024-09-30T16:00:02.317720Z",
     "start_time": "2024-09-30T16:00:00.565818Z"
    }
   },
   "cell_type": "code",
   "source": [
    "customers = pd.read_csv(dataset_path + '/customers.csv')\n",
    "order_items = pd.read_csv(dataset_path +'/order_items.csv')\n",
    "order_payments = pd.read_csv(dataset_path +'/order_payments.csv')\n",
    "order_reviews = pd.read_csv(dataset_path +'/order_reviews.csv')\n",
    "orders = pd.read_csv(dataset_path +'/orders.csv')\n",
    "products = pd.read_csv(dataset_path +'/products.csv')\n",
    "sellers = pd.read_csv(dataset_path +'/sellers.csv')\n",
    "data = {'customers': customers,\n",
    "        'order_items': order_items, \n",
    "        'order_payments': order_payments,\n",
    "        'order_reviews': order_reviews,\n",
    "        'orders': orders,\n",
    "        'products': products,\n",
    "        'sellers': sellers}"
   ],
   "id": "2d11f57adde77c87",
   "outputs": [],
   "execution_count": 4
  },
  {
   "metadata": {},
   "cell_type": "markdown",
   "source": "Fact order items table.",
   "id": "8f8ce0bf09409712"
  },
  {
   "metadata": {
    "ExecuteTime": {
     "end_time": "2024-09-30T16:00:32.147014Z",
     "start_time": "2024-09-30T16:00:32.132935Z"
    }
   },
   "cell_type": "code",
   "source": [
    "fact_order_items = order_items[['order_id', 'order_item_id', 'product_id', 'seller_id', 'price', 'freight_value',\n",
    "                                'total_price', 'delivery_time', 'total_payments_count', 'profit_margin']]"
   ],
   "id": "3db47a6157578127",
   "outputs": [],
   "execution_count": 6
  },
  {
   "metadata": {},
   "cell_type": "markdown",
   "source": "Customers Dimension",
   "id": "57d5bf27152eef69"
  },
  {
   "metadata": {},
   "cell_type": "code",
   "outputs": [],
   "execution_count": null,
   "source": [
    "dim_customers = customers[['customer_id', 'customer_unique_id', 'customer_zip_code_prefix',\n",
    "                           'customer_city', 'customer_state']]"
   ],
   "id": "ca4d88e4e0998726"
  },
  {
   "metadata": {},
   "cell_type": "markdown",
   "source": "Product Dimension",
   "id": "a14343af91d0e5f3"
  },
  {
   "metadata": {},
   "cell_type": "code",
   "outputs": [],
   "execution_count": null,
   "source": [
    "dim_products = products[['product_id', 'product_category_name', 'product_name_lenght', 'product_description_lenght',\n",
    "                         'product_photos_qty', 'product_weight_g', 'product_length_cm', 'product_height_cm',\n",
    "                         'product_width_cm']]"
   ],
   "id": "5e6427636b0fb82e"
  },
  {
   "metadata": {},
   "cell_type": "markdown",
   "source": "Sellers Dimension",
   "id": "858c8bf928dc1479"
  },
  {
   "metadata": {},
   "cell_type": "code",
   "outputs": [],
   "execution_count": null,
   "source": "dim_sellers = sellers[['seller_id', 'seller_zip_code_prefix', 'seller_city', 'seller_state']]",
   "id": "d7c62d1be3a1d479"
  },
  {
   "metadata": {},
   "cell_type": "markdown",
   "source": "Date Dimension",
   "id": "18fe2dc8c7a078ab"
  },
  {
   "metadata": {},
   "cell_type": "code",
   "outputs": [],
   "execution_count": null,
   "source": [
    "dim_date = orders[['order_id', 'order_purchase_timestamp', 'order_delivered_customer_date']].copy()\n",
    "dim_date['order_purchase_date'] = dim_date['order_purchase_timestamp'].dt.date\n",
    "dim_date['order_delivery_date'] = dim_date['order_delivered_customer_date'].dt.date"
   ],
   "id": "b9508c5d20a185ff"
  }
 ],
 "metadata": {
  "kernelspec": {
   "display_name": "Python 3",
   "language": "python",
   "name": "python3"
  },
  "language_info": {
   "codemirror_mode": {
    "name": "ipython",
    "version": 2
   },
   "file_extension": ".py",
   "mimetype": "text/x-python",
   "name": "python",
   "nbconvert_exporter": "python",
   "pygments_lexer": "ipython2",
   "version": "2.7.6"
  }
 },
 "nbformat": 4,
 "nbformat_minor": 5
}
