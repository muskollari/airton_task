{
 "cells": [
  {
   "cell_type": "code",
   "id": "initial_id",
   "metadata": {
    "collapsed": true
   },
   "source": "import pandas as pd",
   "outputs": [],
   "execution_count": null
  },
  {
   "metadata": {},
   "cell_type": "code",
   "source": "dataset_path = r\"C:\\Users\\User\\PycharmProjects\\lufthansa_task\\lufthansa_task\\cleaned_dataset\"",
   "id": "34e420861bde4534",
   "outputs": [],
   "execution_count": null
  },
  {
   "metadata": {},
   "cell_type": "code",
   "source": [
    "# Import datasets\n",
    "customers = pd.read_csv(dataset_path + '/customers.csv')\n",
    "order_items = pd.read_csv(dataset_path +'/order_items.csv')\n",
    "order_payments = pd.read_csv(dataset_path +'/order_payments.csv')\n",
    "order_reviews = pd.read_csv(dataset_path +'/order_reviews.csv')\n",
    "orders = pd.read_csv(dataset_path +'/orders.csv')\n",
    "products = pd.read_csv(dataset_path +'/products.csv')\n",
    "sellers = pd.read_csv(dataset_path +'/sellers.csv')\n",
    "\n",
    "data = {'customers': customers,\n",
    "        'order_items': order_items, \n",
    "        'order_payments': order_payments,\n",
    "        'order_reviews': order_reviews,\n",
    "        'orders': orders,\n",
    "        'products': products,\n",
    "        'sellers': sellers}"
   ],
   "id": "e36c159caf41dc50",
   "outputs": [],
   "execution_count": null
  },
  {
   "metadata": {},
   "cell_type": "markdown",
   "source": "1) Total Price: Sum of product price and freight value.",
   "id": "ca2f419bba58afe1"
  },
  {
   "metadata": {},
   "cell_type": "code",
   "source": [
    "# We will create a new column called total price. \n",
    "order_items['total_price'] = order_items['price'] + order_items['freight_value']"
   ],
   "id": "154cbc385426642a",
   "outputs": [],
   "execution_count": null
  },
  {
   "metadata": {},
   "cell_type": "code",
   "source": "order_items[['total_price', 'price', 'freight_value']].head()",
   "id": "8dfd435424f9016d",
   "outputs": [],
   "execution_count": null
  },
  {
   "metadata": {},
   "cell_type": "markdown",
   "source": "2) Delivery Time: Difference between delivery date and purchase date",
   "id": "dcb61c35cd3062bf"
  },
  {
   "metadata": {},
   "cell_type": "code",
   "source": [
    "# First we want to set the purchase and delivery to datetime.  \n",
    "orders['order_purchase_timestamp'] = pd.to_datetime(orders['order_purchase_timestamp'])\n",
    "orders['order_delivered_customer_date'] = pd.to_datetime(orders['order_delivered_customer_date'])"
   ],
   "id": "29f5a6e40d78a090",
   "outputs": [],
   "execution_count": null
  },
  {
   "metadata": {},
   "cell_type": "code",
   "source": [
    "# Next we want to merge the order_items table with order table to get the purchase and delivery date.\n",
    "order_items = order_items.merge(orders[['order_id', 'order_purchase_timestamp', 'order_delivered_customer_date']], on='order_id', how='left')"
   ],
   "id": "495a56b0f48a7d29",
   "outputs": [],
   "execution_count": null
  },
  {
   "metadata": {},
   "cell_type": "code",
   "source": [
    "# Calculate delivery time in days\n",
    "order_items['delivery_time'] = (order_items['order_delivered_customer_date'] -order_items['order_purchase_timestamp']).dt.days\n"
   ],
   "id": "ee50804d1c491d97",
   "outputs": [],
   "execution_count": null
  },
  {
   "metadata": {},
   "cell_type": "code",
   "source": "order_items[['order_id', 'delivery_time']].head()",
   "id": "8596ce7bb22459b1",
   "outputs": [],
   "execution_count": null
  },
  {
   "metadata": {},
   "cell_type": "markdown",
   "source": "3) Payment Count: Sum of payment installments for each order.",
   "id": "d40022762d2ca4c"
  },
  {
   "metadata": {},
   "cell_type": "code",
   "source": [
    "# We will group by order_id and sum the payment installments\n",
    "payment_sum = order_payments.groupby('order_id')['payment_installments'].sum().reset_index()\n",
    "payment_sum.columns = ['order_id', 'total_payments_count']\n"
   ],
   "id": "e203817be0248c88",
   "outputs": [],
   "execution_count": null
  },
  {
   "metadata": {},
   "cell_type": "code",
   "source": [
    "# Merge the payment data into the order_items table\n",
    "order_items = order_items.merge(payment_sum, on='order_id', how='left')\n",
    "order_items[['order_id', 'total_payments_count']].head()\n"
   ],
   "id": "e2ba4d695b7296e",
   "outputs": [],
   "execution_count": null
  },
  {
   "metadata": {},
   "cell_type": "markdown",
   "source": " 4. Profit Margin: Subtract freight value from product price",
   "id": "13e80eebc63fea26"
  },
  {
   "metadata": {},
   "cell_type": "code",
   "source": [
    "# We will substract freight value from the product price\n",
    "order_items['profit_margin'] = order_items['price'] - order_items['freight_value']"
   ],
   "id": "c26cbdeda850b3e0",
   "outputs": [],
   "execution_count": null
  },
  {
   "metadata": {},
   "cell_type": "code",
   "source": [
    "# Get all the new columns\n",
    "order_items[['order_id', 'total_price', 'delivery_time', 'total_payments_count', 'profit_margin']].head()"
   ],
   "id": "3bcdc9f3ec46cc98",
   "outputs": [],
   "execution_count": null
  },
  {
   "metadata": {},
   "cell_type": "code",
   "source": "order_items.to_csv(r\"C:\\Users\\User\\PycharmProjects\\lufthansa_task\\lufthansa_task\\cleaned_dataset\\order_items.csv\", index=False)",
   "id": "5249453be49540bc",
   "outputs": [],
   "execution_count": null
  },
  {
   "metadata": {},
   "cell_type": "code",
   "source": "",
   "id": "5f9b7ddf73e3080d",
   "outputs": [],
   "execution_count": null
  }
 ],
 "metadata": {
  "kernelspec": {
   "display_name": "Python 3",
   "language": "python",
   "name": "python3"
  },
  "language_info": {
   "codemirror_mode": {
    "name": "ipython",
    "version": 2
   },
   "file_extension": ".py",
   "mimetype": "text/x-python",
   "name": "python",
   "nbconvert_exporter": "python",
   "pygments_lexer": "ipython2",
   "version": "2.7.6"
  }
 },
 "nbformat": 4,
 "nbformat_minor": 5
}
